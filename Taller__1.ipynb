{
  "nbformat": 4,
  "nbformat_minor": 0,
  "metadata": {
    "colab": {
      "provenance": [],
      "authorship_tag": "ABX9TyPUrtbhDGhv5Oz4WfXAIfAI",
      "include_colab_link": true
    },
    "kernelspec": {
      "name": "python3",
      "display_name": "Python 3"
    },
    "language_info": {
      "name": "python"
    }
  },
  "cells": [
    {
      "cell_type": "markdown",
      "metadata": {
        "id": "view-in-github",
        "colab_type": "text"
      },
      "source": [
        "<a href=\"https://colab.research.google.com/github/EstebanIpia05/MatAplicadas/blob/main/Taller__1.ipynb\" target=\"_parent\"><img src=\"https://colab.research.google.com/assets/colab-badge.svg\" alt=\"Open In Colab\"/></a>"
      ]
    },
    {
      "cell_type": "markdown",
      "source": [
        "**Estudiantes:**\n",
        "1. Esteban Ipia García - A00412386\n",
        "2. Ivan Mauricio Serrano Pradilla -A00410697"
      ],
      "metadata": {
        "id": "h86m6IDLZeGc"
      }
    },
    {
      "cell_type": "markdown",
      "source": [
        "**1. Para cada una de las funciones dadas a continuación, despeje la variable\n",
        "indicada y luego escriba ambas funciones en LaTex**"
      ],
      "metadata": {
        "id": "m-QArf-ZN9P5"
      }
    },
    {
      "cell_type": "markdown",
      "source": [
        "1. $A=2\\pi rg$\n",
        ">$r = \\frac{A}{2\\pi g}$\n",
        "2. $V=\\frac{A_B\\cdot h}{3}$\n",
        ">$h = \\frac {3 V}{A}$\n",
        "3. $V=\\frac{4}{3}\\cdot \\pi \\cdot r^3$\n",
        ">$ \\sqrt[3]{\\frac {3V}{4 \\pi}} $\n",
        "4. $A=\\frac{B+b}{2}\\cdot h$\n",
        ">$ h= \\frac {2A}{B+b}$\n",
        "5. $I=\\frac{q}{t}$\n",
        ">$ t = \\frac {q}{I}$\n",
        "6. $I=\\frac{V}{R}$\n",
        ">$ R = \\frac {V}{I}$\n",
        "7. $E=\\frac{V^2}{R}\\cdot t$\n",
        ">$ t = \\frac {ER}{V^2}$\n",
        "8. $\\frac{1}{R}=\\frac{1}{R_1}+\\frac{1}{R_2}$\n",
        ">$ R =\\frac {{R_1} {R_2}}{{R_1}+{R_2}}$\n",
        "9. $\\frac{P_0V_0}{T_0}=\\frac{P_fV_f}{T_f}$\n",
        ">$P_f = \\frac {BV}{T^2_F}$\n",
        "10. $I=\\frac{V_A-V_B}{R}$\n",
        ">$ V_{s} = V-IR$\n",
        "\n",
        "\n",
        "\n",
        "\n",
        "\n",
        "\n",
        "\n",
        "\n",
        "\n"
      ],
      "metadata": {
        "id": "zqV84W3tObKp"
      }
    },
    {
      "cell_type": "markdown",
      "source": [
        "**2. A continuación, encontraran una serie de operaciones aritméticas que\n",
        "deben ser resueltas y comprobadas con Python. Tenga cuidado con la\n",
        "jerarquía de operaciones.**\n"
      ],
      "metadata": {
        "id": "RUyiYF40Nnu1"
      }
    },
    {
      "cell_type": "code",
      "source": [
        "resultado = (3 * (-5 + 10 + (-5)) - 2 * ((-2) + (-4) + 10))**2\n",
        "print(resultado)"
      ],
      "metadata": {
        "id": "Y-ezo--rLVH6",
        "outputId": "1626ec51-8f1a-4e43-951e-803f5d343b75",
        "colab": {
          "base_uri": "https://localhost:8080/"
        }
      },
      "execution_count": null,
      "outputs": [
        {
          "output_type": "stream",
          "name": "stdout",
          "text": [
            "64\n"
          ]
        }
      ]
    },
    {
      "cell_type": "code",
      "source": [
        "resultado = 45 + (3 * (2 + 8) - 8 / 4) + 10 - 83\n",
        "print(resultado)"
      ],
      "metadata": {
        "id": "7ltzmXWDLesc",
        "outputId": "765397e5-58f0-4fc4-f0e0-dfb9094c228d",
        "colab": {
          "base_uri": "https://localhost:8080/"
        }
      },
      "execution_count": null,
      "outputs": [
        {
          "output_type": "stream",
          "name": "stdout",
          "text": [
            "0.0\n"
          ]
        }
      ]
    },
    {
      "cell_type": "code",
      "source": [
        "resultado = ((-4 + 7)*2 - 10) * (-4) - 7 - 3\n",
        "print(resultado)"
      ],
      "metadata": {
        "id": "_WqvcEaCLmsM",
        "outputId": "ad4077c2-3aca-47db-a768-a31ce0902bdd",
        "colab": {
          "base_uri": "https://localhost:8080/"
        }
      },
      "execution_count": null,
      "outputs": [
        {
          "output_type": "stream",
          "name": "stdout",
          "text": [
            "6\n"
          ]
        }
      ]
    },
    {
      "cell_type": "markdown",
      "source": [
        "**3. Las siguientes operaciones deben ser escritas y resultas en Python**"
      ],
      "metadata": {
        "id": "ga003cA3OG7o"
      }
    },
    {
      "cell_type": "code",
      "source": [
        "Operacion= 1/5*((1/2)**2+(3/4)**2)+10/25*((1/2)**2+(3/4)**2)+8/40*((1/2)**2+(3/4)**2)\n",
        "print(Operacion)"
      ],
      "metadata": {
        "id": "Rya8_A1pSvNS",
        "outputId": "8e0c4625-2be9-4071-b0bc-1e125845f155",
        "colab": {
          "base_uri": "https://localhost:8080/"
        }
      },
      "execution_count": null,
      "outputs": [
        {
          "output_type": "stream",
          "name": "stdout",
          "text": [
            "0.65\n"
          ]
        }
      ]
    },
    {
      "cell_type": "code",
      "source": [
        "Operacion= 9/4*(6/8)**-1 - 5/2*(25/50)**-1 + 40/8*(20/16)**-1\n",
        "print(Operacion)"
      ],
      "metadata": {
        "id": "6zQngopjTcBJ",
        "outputId": "09091d49-2a28-40d9-e442-28ffed110a6a",
        "colab": {
          "base_uri": "https://localhost:8080/"
        }
      },
      "execution_count": null,
      "outputs": [
        {
          "output_type": "stream",
          "name": "stdout",
          "text": [
            "2.0\n"
          ]
        }
      ]
    },
    {
      "cell_type": "markdown",
      "source": [
        "**4. Crea un programa que pida al usuario Nombre, Peso y Talla y este calcule el\n",
        "IMC**\n"
      ],
      "metadata": {
        "id": "baKTIpR9OMB3"
      }
    },
    {
      "cell_type": "code",
      "source": [
        "nombre = input(\"Ingrese su nombre: \")\n",
        "peso = float(input(\"Ingrese su peso en kg: \"))\n",
        "talla = float(input(\"Ingrese su estatura en metros (con punto): \"))\n",
        "\n",
        "imc = peso / (talla ** 2)\n",
        "\n",
        "print(f\"{nombre}, su IMC es: {imc:.2f}\")"
      ],
      "metadata": {
        "id": "Lz99U2IwSDIm",
        "outputId": "b9b1d566-c3e4-4c7f-f433-c8e3948ff0c5",
        "colab": {
          "base_uri": "https://localhost:8080/"
        }
      },
      "execution_count": null,
      "outputs": [
        {
          "output_type": "stream",
          "name": "stdout",
          "text": [
            "Ingrese su nombre: Esteban Ipia\n",
            "Ingrese su peso en kg: 72\n",
            "Ingrese su estatura en metros (con punto): 1.66\n",
            "Esteban Ipia, su IMC es: 26.13\n"
          ]
        }
      ]
    },
    {
      "cell_type": "markdown",
      "source": [
        "**5. Escriba un programa que pida dos números luego se imprima la suma,\n",
        "resta, producto y cociente**\n"
      ],
      "metadata": {
        "id": "NmS7PsIIONbG"
      }
    },
    {
      "cell_type": "code",
      "source": [
        "numero1 = float(input(\"Ingrese el primer número: \"))\n",
        "numero2 = float(input(\"Ingrese el segundo número: \"))\n",
        "\n",
        "suma = numero1 + numero2\n",
        "resta = numero1 - numero2\n",
        "producto = numero1 * numero2\n",
        "cociente = numero1 / numero2\n",
        "\n",
        "print(f\"Suma: {suma}\")\n",
        "print(f\"Resta: {resta}\")\n",
        "print(f\"Producto: {producto}\")\n",
        "print(f\"Cociente: {cociente}\")"
      ],
      "metadata": {
        "id": "3PvNo7IKScUZ",
        "outputId": "43db6823-0365-4eb4-eb90-6c1db464c24b",
        "colab": {
          "base_uri": "https://localhost:8080/"
        }
      },
      "execution_count": null,
      "outputs": [
        {
          "output_type": "stream",
          "name": "stdout",
          "text": [
            "Ingrese el primer número: 25\n",
            "Ingrese el segundo número: 14\n",
            "Suma: 39.0\n",
            "Resta: 11.0\n",
            "Producto: 350.0\n",
            "Cociente: 1.7857142857142858\n"
          ]
        }
      ]
    },
    {
      "cell_type": "markdown",
      "source": [
        "**6. Aplicaciones**\n",
        ">**Construya una lista que Almacene el precio del Barril de Petróleo los\n",
        "últimos 7 días. Indague sobre el precio de un litro de Cocacola (Hoy)\n",
        "y haga la conversión de Litros a Barriles bbl oil. Construya otra lista\n",
        "que relacione proporcionablemente el precio de un barril de Petróleo\n",
        "vs un barril de Cocacola. Construya un párrafo con sus conclusiones.**"
      ],
      "metadata": {
        "id": "yBU9iPb9OVXJ"
      }
    },
    {
      "cell_type": "code",
      "source": [
        "precio = 1.5\n",
        "precios_petroleo = [70, 71, 72, 73, 74, 75, 76]\n",
        "precio_cocacola = 1.5 * 159\n",
        "precios_cocacola = [precios_petroleo * 238.5 for precios_petroleo in precios_petroleo]\n",
        "\n",
        "print(\"Precios Barril de Petróleo:\")\n",
        "print(precios_petroleo)\n",
        "print(\"Precios Barril de Coca-Cola:\")\n",
        "print(precio_cocacola)\n"
      ],
      "metadata": {
        "id": "b4qsJvqqWk71",
        "outputId": "a703b49e-0ce9-4afb-f8c1-8880ee089940",
        "colab": {
          "base_uri": "https://localhost:8080/"
        }
      },
      "execution_count": null,
      "outputs": [
        {
          "output_type": "stream",
          "name": "stdout",
          "text": [
            "Precios Barril de Petróleo:\n",
            "[70, 71, 72, 73, 74, 75, 76]\n",
            "Precios Barril de Coca-Cola:\n",
            "238.5\n"
          ]
        }
      ]
    }
  ]
}