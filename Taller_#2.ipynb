{
  "nbformat": 4,
  "nbformat_minor": 0,
  "metadata": {
    "colab": {
      "provenance": [],
      "authorship_tag": "ABX9TyMg1dADhgs/vM2CM9IUHtWf",
      "include_colab_link": true
    },
    "kernelspec": {
      "name": "python3",
      "display_name": "Python 3"
    },
    "language_info": {
      "name": "python"
    }
  },
  "cells": [
    {
      "cell_type": "markdown",
      "metadata": {
        "id": "view-in-github",
        "colab_type": "text"
      },
      "source": [
        "<a href=\"https://colab.research.google.com/github/EstebanIpia05/MatAplicadas/blob/main/Taller_%232.ipynb\" target=\"_parent\"><img src=\"https://colab.research.google.com/assets/colab-badge.svg\" alt=\"Open In Colab\"/></a>"
      ]
    },
    {
      "cell_type": "markdown",
      "source": [
        "**Esteban Ipia García - A00412386**<P>\n",
        "**Ivan Mauricio Serrano Pradilla - A00410697**"
      ],
      "metadata": {
        "id": "2FNuXLaTJ3lN"
      }
    },
    {
      "cell_type": "code",
      "source": [
        "def es_primo(n):\n",
        "    if n <= 1:\n",
        "        return False\n",
        "    if n == 2:\n",
        "        return True\n",
        "    if n % 2 == 0:\n",
        "        return False\n",
        "    for i in range(3, int(n ** 0.5) + 1, 2):\n",
        "        if n % i == 0:\n",
        "            return False\n",
        "    return True\n",
        "\n",
        "def filtrar_primos():\n",
        "    entrada = input(\"Ingrese números separados por espacio: \")\n",
        "    numeros = entrada.split()\n",
        "    primos = [int(num) for num in numeros if es_primo(int(num))]\n",
        "    print(primos)\n",
        "\n",
        "filtrar_primos()\n"
      ],
      "metadata": {
        "id": "1Ff4MFU7UIKE",
        "outputId": "b9406882-5ead-4e74-ca94-9c54707df6d5",
        "colab": {
          "base_uri": "https://localhost:8080/"
        }
      },
      "execution_count": null,
      "outputs": [
        {
          "output_type": "stream",
          "name": "stdout",
          "text": [
            "Ingrese números separados por espacio: 3 4 5 6 7 3 \n",
            "[3, 5, 7, 3]\n"
          ]
        }
      ]
    },
    {
      "cell_type": "code",
      "source": [
        "def elementos_comunes():\n",
        "    entrada1 = input(\"Ingrese primera lista: \")\n",
        "    entrada2 = input(\"Ingrese segunda lista: \")\n",
        "    lista1 = entrada1.split()\n",
        "    lista2 = entrada2.split()\n",
        "    comunes = list(set(lista1) & set(lista2))\n",
        "    print(comunes)\n",
        "\n",
        "elementos_comunes()\n"
      ],
      "metadata": {
        "id": "7o0-W7-pWmz7",
        "outputId": "510094b6-55a7-41d0-c9c4-b549767fc52d",
        "colab": {
          "base_uri": "https://localhost:8080/"
        }
      },
      "execution_count": null,
      "outputs": [
        {
          "output_type": "stream",
          "name": "stdout",
          "text": [
            "Ingrese primera lista: 3 5 6 2 4\n",
            "Ingrese segunda lista: 2 3 4 6 4\n",
            "['3', '2', '4', '6']\n"
          ]
        }
      ]
    },
    {
      "cell_type": "code",
      "source": [
        "def lista_a_matriz():\n",
        "    entrada = input(\"Ingrese números para la matriz: \")\n",
        "    lista = list(map(int, entrada.split()))\n",
        "    n = len(lista)\n",
        "    raiz = int(n ** 0.5)\n",
        "    if raiz * raiz != n:\n",
        "        print(\"Error: No se puede formar una matriz cuadrada.\")\n",
        "    else:\n",
        "        matriz = [lista[i * raiz:(i + 1) * raiz] for i in range(raiz)]\n",
        "        for fila in matriz:\n",
        "            print(fila)\n",
        "\n",
        "lista_a_matriz()\n"
      ],
      "metadata": {
        "id": "4ePxD9ZDF4js",
        "outputId": "312eee73-32c1-441a-8e4b-5d6ec91750c1",
        "colab": {
          "base_uri": "https://localhost:8080/"
        }
      },
      "execution_count": null,
      "outputs": [
        {
          "output_type": "stream",
          "name": "stdout",
          "text": [
            "Ingrese números para la matriz: 4 5 6 3\n",
            "[4, 5]\n",
            "[6, 3]\n"
          ]
        }
      ]
    },
    {
      "cell_type": "code",
      "source": [
        "def estadisticas():\n",
        "    entrada = input(\"Ingrese números separados por espacio: \")\n",
        "    numeros = list(map(int, entrada.split()))\n",
        "    media = sum(numeros) / len(numeros)\n",
        "    numeros.sort()\n",
        "    n = len(numeros)\n",
        "    mediana = numeros[n // 2] if n % 2 == 1 else (numeros[n // 2 - 1] + numeros[n // 2]) / 2\n",
        "    conteo = {num: numeros.count(num) for num in set(numeros)}\n",
        "    moda = [num for num, cnt in conteo.items() if cnt == max(conteo.values())]\n",
        "    print({\"media\": media, \"mediana\": mediana, \"moda\": moda})\n",
        "\n",
        "estadisticas()"
      ],
      "metadata": {
        "id": "wiTTxK4SHLKK",
        "outputId": "d629c2b7-2fb3-4ba2-a76c-f5862b8c5add",
        "colab": {
          "base_uri": "https://localhost:8080/"
        }
      },
      "execution_count": null,
      "outputs": [
        {
          "output_type": "stream",
          "name": "stdout",
          "text": [
            "Ingrese números separados por espacio: 5 3 2 2 4 5 6 \n",
            "{'media': 3.857142857142857, 'mediana': 4, 'moda': [2, 5]}\n"
          ]
        }
      ]
    },
    {
      "cell_type": "code",
      "source": [
        "def calcular_total():\n",
        "    precios = list(map(float, input(\"Ingrese precios de productos: \").split()))\n",
        "    cantidades = list(map(int, input(\"Ingrese cantidades compradas: \").split()))\n",
        "    total = sum(precio * cantidad for precio, cantidad in zip(precios, cantidades))\n",
        "    if total > 100:\n",
        "        total *= 0.9\n",
        "    print(f\"Total a pagar: {total}\")\n",
        "\n",
        "calcular_total()\n"
      ],
      "metadata": {
        "id": "SUs6R2chHdaj",
        "outputId": "2895a553-a6fa-40b3-9113-003b659d0471",
        "colab": {
          "base_uri": "https://localhost:8080/"
        }
      },
      "execution_count": null,
      "outputs": [
        {
          "output_type": "stream",
          "name": "stdout",
          "text": [
            "Ingrese precios de productos: 51\n",
            "Ingrese cantidades compradas: 2\n",
            "Total a pagar: 91.8\n"
          ]
        }
      ]
    },
    {
      "cell_type": "code",
      "source": [
        "def actualizar_inventario():\n",
        "    inventario = input(\"Ingrese productos en inventario separados por coma: \").split(\", \")\n",
        "    vendidos = input(\"Ingrese productos vendidos separados por coma: \").split(\", \")\n",
        "    print([producto for producto in inventario if producto not in vendidos])\n",
        "\n",
        "actualizar_inventario()"
      ],
      "metadata": {
        "id": "7IZceIngHubb",
        "outputId": "b1dc8f8f-edb1-4291-c70b-fefb37ecc4ca",
        "colab": {
          "base_uri": "https://localhost:8080/"
        }
      },
      "execution_count": null,
      "outputs": [
        {
          "output_type": "stream",
          "name": "stdout",
          "text": [
            "Ingrese productos en inventario separados por coma: Avena, Leche, Papel, Hojas\n",
            "Ingrese productos vendidos separados por coma: Avena, Leche\n",
            "['Papel', 'Hojas']\n"
          ]
        }
      ]
    },
    {
      "cell_type": "code",
      "source": [
        "def clasificar_temperaturas():\n",
        "    temperaturas = list(map(float, input(\"Ingrese temperaturas diarias: \").split()))\n",
        "    categorias = {\">30°C\": sum(1 for temp in temperaturas if temp > 30),\n",
        "                  \"20-30°C\": sum(1 for temp in temperaturas if 20 <= temp <= 30),\n",
        "                  \"<20°C\": sum(1 for temp in temperaturas if temp < 20)}\n",
        "    print(categorias)\n",
        "\n",
        "clasificar_temperaturas()"
      ],
      "metadata": {
        "id": "5IPTdWjDICL5",
        "outputId": "5ed2173e-4982-40f8-b031-f272759e4245",
        "colab": {
          "base_uri": "https://localhost:8080/"
        }
      },
      "execution_count": null,
      "outputs": [
        {
          "output_type": "stream",
          "name": "stdout",
          "text": [
            "Ingrese temperaturas diarias: 23 31 26 28\n",
            "{'>30°C': 1, '20-30°C': 3, '<20°C': 0}\n"
          ]
        }
      ]
    },
    {
      "cell_type": "code",
      "source": [
        "def calcular_calorias():\n",
        "    calorias = list(map(float, input(\"Ingrese calorías de alimentos consumidos: \").split()))\n",
        "    total = sum(calorias)\n",
        "    mensaje = \"Superaste el límite de 2000 calorías\" if total > 2000 else \"Consumo dentro del límite\"\n",
        "    print(f\"Total calorías: {total}. {mensaje}\")\n",
        "\n",
        "calcular_calorias()"
      ],
      "metadata": {
        "id": "ohaZh59TIO6u",
        "outputId": "d7b83c72-1f2f-4f5d-8609-22fafcafb5d2",
        "colab": {
          "base_uri": "https://localhost:8080/"
        }
      },
      "execution_count": null,
      "outputs": [
        {
          "output_type": "stream",
          "name": "stdout",
          "text": [
            "Ingrese calorías de alimentos consumidos: 100 320 40\n",
            "Total calorías: 460.0. Consumo dentro del límite\n"
          ]
        }
      ]
    },
    {
      "cell_type": "code",
      "source": [
        "def promedio_ventas():\n",
        "    ventas = list(map(float, input(\"Ingrese las ventas mensuales: \").split()))\n",
        "    promedio = sum(ventas) / len(ventas)\n",
        "    meses_superiores = sum(1 for venta in ventas if venta > promedio)\n",
        "    print(f\"Promedio de ventas: {promedio}, Meses por encima del promedio: {meses_superiores}\")\n",
        "\n",
        "promedio_ventas()"
      ],
      "metadata": {
        "id": "1eLTNgBPIVi2",
        "outputId": "823aaf6b-742d-449e-e823-a4fc324b6563",
        "colab": {
          "base_uri": "https://localhost:8080/"
        }
      },
      "execution_count": null,
      "outputs": [
        {
          "output_type": "stream",
          "name": "stdout",
          "text": [
            "Ingrese las ventas mensuales: 30000 200 300000\n",
            "Promedio de ventas: 110066.66666666667, Meses por encima del promedio: 1\n"
          ]
        }
      ]
    },
    {
      "cell_type": "code",
      "source": [
        "def calcular_descuento():\n",
        "    total = float(input(\"Ingrese el total de la compra: \"))\n",
        "    if total >= 200:\n",
        "        total *= 0.85\n",
        "    elif total >= 100:\n",
        "        total *= 0.90\n",
        "    elif total >= 50:\n",
        "        total *= 0.95\n",
        "    print(f\"Total con descuento: {total}\")\n",
        "\n",
        "calcular_descuento()"
      ],
      "metadata": {
        "id": "M7Ithl1fIrjK",
        "outputId": "4a4e2fd7-4db3-424d-b56c-d96efd882beb",
        "colab": {
          "base_uri": "https://localhost:8080/"
        }
      },
      "execution_count": null,
      "outputs": [
        {
          "output_type": "stream",
          "name": "stdout",
          "text": [
            "Ingrese el total de la compra: 40000\n",
            "Total con descuento: 34000.0\n"
          ]
        }
      ]
    },
    {
      "cell_type": "code",
      "source": [
        "def pacientes_prioritarios():\n",
        "    nombres = input(\"Ingrese nombres de pacientes separados por coma: \").split(\", \")\n",
        "    edades = list(map(int, input(\"Ingrese edades correspondientes: \").split()))\n",
        "    print(f\"Pacientes prioritarios: {[nombres[i] for i in range(len(edades)) if edades[i] > 60]}\")\n",
        "\n",
        "pacientes_prioritarios()"
      ],
      "metadata": {
        "id": "WHTNCFamI1i8",
        "outputId": "acfb3f4a-ae79-41e7-bfd3-b3991972b087",
        "colab": {
          "base_uri": "https://localhost:8080/"
        }
      },
      "execution_count": null,
      "outputs": [
        {
          "output_type": "stream",
          "name": "stdout",
          "text": [
            "Ingrese nombres de pacientes separados por coma: Juan, Ivan, Esteban\n",
            "Ingrese edades correspondientes: 67 95 17\n",
            "Pacientes prioritarios: ['Juan', 'Ivan']\n"
          ]
        }
      ]
    },
    {
      "cell_type": "code",
      "source": [
        "def gastos_mensuales():\n",
        "    categorias = input(\"Ingrese categorías de gastos separadas por coma: \").split(\", \")\n",
        "    gastos = list(map(float, input(\"Ingrese los montos respectivos: \").split()))\n",
        "    total = sum(gastos)\n",
        "    max_gasto = max(gastos)\n",
        "    print(f\"Total gastos: {total}, Mayor gasto: {categorias[gastos.index(max_gasto)]} ({max_gasto})\")\n",
        "\n",
        "gastos_mensuales()"
      ],
      "metadata": {
        "id": "cfh13FGgJHQH",
        "outputId": "b03e2626-ba8c-484a-d532-ec35d003107b",
        "colab": {
          "base_uri": "https://localhost:8080/"
        }
      },
      "execution_count": null,
      "outputs": [
        {
          "output_type": "stream",
          "name": "stdout",
          "text": [
            "Ingrese categorías de gastos separadas por coma: Vivienda, Carro, Comida\n",
            "Ingrese los montos respectivos: 600000 1500000 450000\n",
            "Total gastos: 2550000.0, Mayor gasto: Carro (1500000.0)\n"
          ]
        }
      ]
    },
    {
      "cell_type": "code",
      "source": [
        "def asistencia_evento():\n",
        "    registrados = input(\"Ingrese nombres registrados separados por coma: \").split(\", \")\n",
        "    asistieron = input(\"Ingrese nombres de asistentes separados por coma: \").split(\", \")\n",
        "    print(f\"No asistieron: {[persona for persona in registrados if persona not in asistieron]}\")\n",
        "\n",
        "asistencia_evento()"
      ],
      "metadata": {
        "id": "slyw0HdbJMpF",
        "outputId": "c15d9d7c-cfc5-4f2e-94a5-defb68536811",
        "colab": {
          "base_uri": "https://localhost:8080/"
        }
      },
      "execution_count": null,
      "outputs": [
        {
          "output_type": "stream",
          "name": "stdout",
          "text": [
            "Ingrese nombres registrados separados por coma: Luis, Juan, Sara, Maria, Johanna\n",
            "Ingrese nombres de asistentes separados por coma: Luis, Sara\n",
            "No asistieron: ['Juan', 'Maria', 'Johanna']\n"
          ]
        }
      ]
    },
    {
      "cell_type": "code",
      "source": [
        "def recomendacion_ejercicio():\n",
        "    minutos = list(map(int, input(\"Ingrese minutos de ejercicio por día: \").split()))\n",
        "    promedio = sum(minutos) / len(minutos)\n",
        "    if promedio > 60:\n",
        "        mensaje = \"Excelente, estás en forma\"\n",
        "    elif promedio >= 30:\n",
        "        mensaje = \"Buen trabajo, pero puedes mejorar\"\n",
        "    else:\n",
        "        mensaje = \"Debes hacer más ejercicio\"\n",
        "    print(mensaje)\n",
        "\n",
        "recomendacion_ejercicio()"
      ],
      "metadata": {
        "id": "oO0J5jJqJOj4",
        "outputId": "68857a97-cd02-4866-8038-633690483bb9",
        "colab": {
          "base_uri": "https://localhost:8080/"
        }
      },
      "execution_count": null,
      "outputs": [
        {
          "output_type": "stream",
          "name": "stdout",
          "text": [
            "Ingrese minutos de ejercicio por día: 45\n",
            "Buen trabajo, pero puedes mejorar\n"
          ]
        }
      ]
    }
  ]
}