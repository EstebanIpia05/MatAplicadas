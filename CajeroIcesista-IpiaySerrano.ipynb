{
  "nbformat": 4,
  "nbformat_minor": 0,
  "metadata": {
    "colab": {
      "provenance": [],
      "authorship_tag": "ABX9TyNu7qTUGvtKLOOHwawCsQG/",
      "include_colab_link": true
    },
    "kernelspec": {
      "name": "python3",
      "display_name": "Python 3"
    },
    "language_info": {
      "name": "python"
    }
  },
  "cells": [
    {
      "cell_type": "markdown",
      "metadata": {
        "id": "view-in-github",
        "colab_type": "text"
      },
      "source": [
        "<a href=\"https://colab.research.google.com/github/EstebanIpia05/MatAplicadas/blob/main/CajeroIcesista-IpiaySerrano.ipynb\" target=\"_parent\"><img src=\"https://colab.research.google.com/assets/colab-badge.svg\" alt=\"Open In Colab\"/></a>"
      ]
    },
    {
      "cell_type": "code",
      "execution_count": null,
      "metadata": {
        "colab": {
          "base_uri": "https://localhost:8080/"
        },
        "id": "YOlOX1PrL1tN",
        "outputId": "496e3784-8cff-4119-baa4-1ef54aea75c0"
      },
      "outputs": [
        {
          "metadata": {
            "tags": null
          },
          "name": "stdout",
          "output_type": "stream",
          "text": [
            "\n",
            "Bienvenido al Cajero Icesibank\n",
            "1. Consultar Saldo\n",
            "2. Crear contraseña\n",
            "3. Depositar Dinero\n",
            "4. Retirar Dinero\n",
            "5. Transferir dinero\n",
            "6. Salir\n"
          ]
        }
      ],
      "source": [
        "import numpy as np\n",
        "\n",
        "class Cajero:\n",
        "\n",
        "    def __init__(self):\n",
        "        self.saldo = np.random.randint(100, 10001)\n",
        "\n",
        "    def consultar_saldo(self):\n",
        "        print(f\"Tu saldo actual es: ${self.saldo:.2f}\")\n",
        "\n",
        "    def contra(self):\n",
        "        opcion = input(\"Cree una contraseña segura: \")\n",
        "        print(\"Contraseña creada\")\n",
        "\n",
        "    def depositar(self, cantidad):\n",
        "        if cantidad > 0:\n",
        "            self.saldo += cantidad\n",
        "            print(f\"Has depositado: ${cantidad:.2f}\")\n",
        "            self.consultar_saldo()\n",
        "        else:\n",
        "            print(\"La cantidad a depositar debe ser mayor que cero.\")\n",
        "\n",
        "    def retirar(self, cantidad):\n",
        "        if cantidad > 0:\n",
        "            if cantidad <= self.saldo:\n",
        "                self.saldo -= cantidad\n",
        "                print(f\"Has retirado: ${cantidad:.2f}\")\n",
        "                self.consultar_saldo()\n",
        "            else:\n",
        "                print(\"Fondos insuficientes.\")\n",
        "        else:\n",
        "            print(\"La cantidad a transferir debe ser mayor que cero.\")\n",
        "\n",
        "    def transferir(self, cantidad):\n",
        "        if cantidad > 0:\n",
        "            if cantidad <= self.saldo:\n",
        "                self.saldo -= cantidad\n",
        "                print(f\"Has transferido: ${cantidad:.2f}\")\n",
        "                print(f\"TRANSFERENCIA EXITOSA\")\n",
        "                self.consultar_saldo()\n",
        "            else:\n",
        "                print(\"Fondos insuficientes.\")\n",
        "        else:\n",
        "            print(\"La cantidad a retirar debe ser mayor que cero.\")\n",
        "\n",
        "def mostrar_menu():\n",
        "    print(\"\\nBienvenido al Cajero Icesibank\")\n",
        "    print(\"1. Consultar Saldo\")\n",
        "    print(\"2. Crear contraseña\")\n",
        "    print(\"3. Depositar Dinero\")\n",
        "    print(\"4. Retirar Dinero\")\n",
        "    print(\"5. Transferir dinero\")\n",
        "    print(\"6. Salir\")\n",
        "\n",
        "def main():\n",
        "    cajero = Cajero()\n",
        "    while True:\n",
        "        mostrar_menu()\n",
        "        opcion = input(\"Selecciona una opción (1/2/3/4/5/6): \")\n",
        "\n",
        "        if opcion == '1':\n",
        "            cajero.consultar_saldo()\n",
        "        elif opcion == '2':\n",
        "            cajero.contra()\n",
        "        elif opcion == '3':\n",
        "            cantidad = float(input(\"Ingresa la cantidad a depositar: \"))\n",
        "            cajero.depositar(cantidad)\n",
        "        elif opcion == '4':\n",
        "            cantidad = float(input(\"Ingresa la cantidad a retirar: \"))\n",
        "            cajero.retirar(cantidad)\n",
        "        elif opcion == '5':\n",
        "            numero = float(input(\"Ingresa el número de cuenta a la cual desea transferir: \"))\n",
        "            cantidad = float(input(\"Ingresa la cantidad a transferir: \"))\n",
        "            cajero.transferir(cantidad)\n",
        "\n",
        "        elif opcion == '6':\n",
        "            print(\"Gracias por usar el Cajero Icesibank. ¡Hasta luego!\")\n",
        "            break\n",
        "        else:\n",
        "            print(\"Opción inválida. Por favor, selecciona una opción válida.\")\n",
        "\n",
        "if __name__ == \"__main__\":\n",
        "    main()"
      ]
    },
    {
      "cell_type": "code",
      "source": [],
      "metadata": {
        "id": "--qZ3DzDO0fk"
      },
      "execution_count": null,
      "outputs": []
    }
  ]
}