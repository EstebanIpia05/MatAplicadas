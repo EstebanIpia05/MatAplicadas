{
  "nbformat": 4,
  "nbformat_minor": 0,
  "metadata": {
    "colab": {
      "provenance": [],
      "authorship_tag": "ABX9TyNduThog0+TXxPdW8xbVchK",
      "include_colab_link": true
    },
    "kernelspec": {
      "name": "python3",
      "display_name": "Python 3"
    },
    "language_info": {
      "name": "python"
    }
  },
  "cells": [
    {
      "cell_type": "markdown",
      "metadata": {
        "id": "view-in-github",
        "colab_type": "text"
      },
      "source": [
        "<a href=\"https://colab.research.google.com/github/EstebanIpia05/MatAplicadas/blob/main/IpiaGarciaEsteban_A00412386.ipynb\" target=\"_parent\"><img src=\"https://colab.research.google.com/assets/colab-badge.svg\" alt=\"Open In Colab\"/></a>"
      ]
    },
    {
      "cell_type": "markdown",
      "source": [
        "<center><b>MI AUTOBIOGRAFÍA</b></center>\n",
        "\n",
        "Yo soy <b>Esteban Ipia García</b>, tengo 17 años, nací el 5 de Septiembre de 2007, en la ciudad de Cali, vivo con mis padres, mi hermana y mis abuelos, estudio en la Universidad Icesi, voy cursando segundo semestre de Ingeniería en Energía Inteligente, mi sueño es graduarme y vivir tranquilamente, crear una empresa y viajar a conocer todo el mundo. Soy perfeccionista, me gusta tener orden de mis cosas, soy un poco procrastinador con mis deberes aunque siempre entrego todo, me gusta jugar tenis y padel; Me gustan los carros y las motos, tambien conducirlos.\n",
        "\n",
        "<center><img src = \"https://encrypted-tbn0.gstatic.com/images?q=tbn:ANd9GcSG8BCMA2JaEAXh_K7qnfDPT8cuP7_SLQrgnQ&s\"></center>\n",
        "\n",
        "><b>1. Respuesta</b>\n",
        ">><i>Amilcar Boscan\n",
        ">>>Amilcar Boscan</i>\n",
        "\n",
        "><b>2. Guararé</b>\n",
        ">><i>Ray Barretto\n",
        ">>>Juan Formell</i>\n",
        "\n",
        "><b>3. Mis ojos lloran por ti</b>\n",
        ">><i>Big Boy\n",
        ">>> Big Boy Angel López</i>\n",
        "\n",
        "><b>4. Ride</b>\n",
        ">><i>Twenty One Pilots\n",
        ">>>Tyler Joseph</i>\n",
        "\n",
        "><b>5. Go Pato</b>\n",
        ">><i>Pato Banton\n",
        ">>>Pato Banton</i>\n",
        "\n",
        "|Asignaturas |Razón     |\n",
        "|------------|----------|\n",
        "|Energía Global|Es muy interesante ya que nos brinda información sobre el mundo energético.|\n",
        "|Inglés      |Me gusta por lo dinámica y agradable que es.|\n",
        "|Lenguaje    |Es super entretenida y entendía perfectamente.|\n",
        "\n",
        "\n"
      ],
      "metadata": {
        "id": "Q6d1FTM0MySd"
      }
    }
  ]
}