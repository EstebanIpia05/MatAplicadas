{
  "nbformat": 4,
  "nbformat_minor": 0,
  "metadata": {
    "colab": {
      "provenance": [],
      "authorship_tag": "ABX9TyObrCaMUfumLNG4J5FRatPw",
      "include_colab_link": true
    },
    "kernelspec": {
      "name": "python3",
      "display_name": "Python 3"
    },
    "language_info": {
      "name": "python"
    }
  },
  "cells": [
    {
      "cell_type": "markdown",
      "metadata": {
        "id": "view-in-github",
        "colab_type": "text"
      },
      "source": [
        "<a href=\"https://colab.research.google.com/github/EstebanIpia05/MatAplicadas/blob/main/IpiaGarciaEsteban_A00412386.ipynb\" target=\"_parent\"><img src=\"https://colab.research.google.com/assets/colab-badge.svg\" alt=\"Open In Colab\"/></a>"
      ]
    },
    {
      "cell_type": "markdown",
      "source": [
        "MI AUTOBIOGRAFÍA\n",
        "\n",
        "Yo soy Esteban Ipia García, tengo 17 años, nací el 5 de Septiembre de 2007, en la ciudad de Cali, vivo con mis padres, mi hermana y mis abuelos, estudio en la Universidad Icesi, voy cursando segundo semestre de Ingenieria en Energía Inteligente, mi sueño es graduarme y vivir tranquilamente, crear una empresa y viajar a conocer todo el mundo. Soy perfeccionista, me gusta tener orden de mis cosas, soy un poco procrastinador con mis deberes aunque siempre entrego todo, me gusta jugar tenis y padel; Me gustan los carros y las motos, tambien conducirlos.\n",
        "\n",
        "<img src = \"https://encrypted-tbn0.gstatic.com/images?q=tbn:ANd9GcSG8BCMA2JaEAXh_K7qnfDPT8cuP7_SLQrgnQ&s\">\n",
        "\n",
        ">1. Respuesta\n",
        ">>Amilcar Boscan\n",
        ">>>Amilcar Boscan\n",
        "\n",
        ">2. Guararé\n",
        ">>Ray Barretto\n",
        ">>>Juan Formell\n",
        "\n",
        ">3. Mis ojos lloran por ti\n",
        ">>Big Boy\n",
        ">>> Big Boy Angel López\n",
        "\n",
        ">4. Ride\n",
        ">>Twenty One Pilots\n",
        ">>>Tyler Joseph\n",
        "\n",
        ">5. Go Pato\n",
        ">>Pato Banton\n",
        ">>>Pato Banton\n",
        "\n",
        "|Asignaturas |Razón     |\n",
        "|------------|----------|\n",
        "|Energía Global|Es muy imteresante ya que nos brinda información sobre el mundo energético.|\n",
        "|Inglés      |Me gusta por lo dinámica y agradable que es.|\n",
        "|Lenguaje    |Es super entretenida y entendía perfectamente.|\n",
        "\n",
        "\n"
      ],
      "metadata": {
        "id": "Q6d1FTM0MySd"
      }
    }
  ]
}